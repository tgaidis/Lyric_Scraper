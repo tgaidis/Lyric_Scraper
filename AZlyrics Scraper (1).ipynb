{
 "cells": [
  {
   "cell_type": "code",
   "execution_count": 1,
   "metadata": {},
   "outputs": [],
   "source": [
    "import requests\n",
    "from bs4 import BeautifulSoup\n",
    "import time\n",
    "import random\n",
    "import csv\n",
    "import pandas as pd"
   ]
  },
  {
   "cell_type": "code",
   "execution_count": 27,
   "metadata": {},
   "outputs": [
    {
     "name": "stdout",
     "output_type": "stream",
     "text": [
      "349 Songs Left\n",
      "Pausing 15.9seconds\n"
     ]
    },
    {
     "ename": "KeyboardInterrupt",
     "evalue": "",
     "output_type": "error",
     "traceback": [
      "\u001b[0;31m---------------------------------------------------------------------------\u001b[0m",
      "\u001b[0;31mKeyboardInterrupt\u001b[0m                         Traceback (most recent call last)",
      "\u001b[0;32m<ipython-input-27-fea7b2b17322>\u001b[0m in \u001b[0;36m<module>\u001b[0;34m\u001b[0m\n\u001b[1;32m     66\u001b[0m                     \u001b[0mt\u001b[0m \u001b[0;34m=\u001b[0m \u001b[0mrandom\u001b[0m\u001b[0;34m.\u001b[0m\u001b[0muniform\u001b[0m\u001b[0;34m(\u001b[0m\u001b[0;36m2\u001b[0m\u001b[0;34m,\u001b[0m\u001b[0;36m16\u001b[0m\u001b[0;34m)\u001b[0m\u001b[0;34m\u001b[0m\u001b[0;34m\u001b[0m\u001b[0m\n\u001b[1;32m     67\u001b[0m                     \u001b[0mprint\u001b[0m\u001b[0;34m(\u001b[0m\u001b[0;34m'Pausing '\u001b[0m \u001b[0;34m+\u001b[0m \u001b[0mstr\u001b[0m\u001b[0;34m(\u001b[0m\u001b[0mround\u001b[0m\u001b[0;34m(\u001b[0m\u001b[0mt\u001b[0m\u001b[0;34m,\u001b[0m \u001b[0;36m2\u001b[0m\u001b[0;34m)\u001b[0m\u001b[0;34m)\u001b[0m \u001b[0;34m+\u001b[0m \u001b[0;34m'seconds'\u001b[0m\u001b[0;34m)\u001b[0m\u001b[0;34m\u001b[0m\u001b[0;34m\u001b[0m\u001b[0m\n\u001b[0;32m---> 68\u001b[0;31m                     \u001b[0mtime\u001b[0m\u001b[0;34m.\u001b[0m\u001b[0msleep\u001b[0m\u001b[0;34m(\u001b[0m\u001b[0mt\u001b[0m\u001b[0;34m)\u001b[0m\u001b[0;34m\u001b[0m\u001b[0;34m\u001b[0m\u001b[0m\n\u001b[0m\u001b[1;32m     69\u001b[0m                     \u001b[0;31m#print(350-counter + 'Songs Left')\u001b[0m\u001b[0;34m\u001b[0m\u001b[0;34m\u001b[0m\u001b[0;34m\u001b[0m\u001b[0m\n",
      "\u001b[0;31mKeyboardInterrupt\u001b[0m: "
     ]
    }
   ],
   "source": [
    "#Website URL INSERT LETTER WHERE THE # IS!! AFTER THE SLASH\n",
    "url=\"https://www.azlyrics.com/#.html\"\n",
    "\n",
    "#collect artist names from page\n",
    "page = requests.get(url)\n",
    "soup = BeautifulSoup(page.content, 'lxml')\n",
    "x = soup.find_all(class_=\"col-sm-6 text-center artist-col\")\n",
    "\n",
    "#initialize empty lists\n",
    "links = []\n",
    "artist_names = []\n",
    "\n",
    "#fill link list and artist_names list\n",
    "for col in x:\n",
    "    g_tags = col.find_all(\"a\")\n",
    "    for item in g_tags:\n",
    "        links.append(item.get('href'))\n",
    "        artist_names.append(item.text)\n",
    "        \n",
    "#Create list of URLs\n",
    "artist_urls = [\"https://www.azlyrics.com/\" + addition for addition in links]\n",
    "urls = []\n",
    "albums = []\n",
    "songTitles = []\n",
    "artistNames = []\n",
    "lyrics = []\n",
    "counter = 0\n",
    "z=list(zip(artist_names, artist_urls))\n",
    "\n",
    "#Collect Data\n",
    "for item in z:\n",
    "    while counter < 350:\n",
    "        artist_name = item[0]\n",
    "        url = item[1]\n",
    "        page = requests.get(url)\n",
    "        soup = BeautifulSoup(page.content, 'lxml')\n",
    "        divs = soup.find_all(\"div\")\n",
    "        current_album=\"\"\n",
    "        for div in divs:\n",
    "            if div.has_attr(\"class\"):\n",
    "                if div.attrs[\"class\"][0]==\"album\":\n",
    "                    current_album = div.text\n",
    "                elif div.attrs[\"class\"][0] == \"listalbum-item\":\n",
    "                    end = div.a.get(\"href\")\n",
    "                    songURL = \"https://www.azlyrics.com/\" + end[3:]\n",
    "                    urls.append(songURL)\n",
    "                    albums.append(current_album)\n",
    "                    songTitles.append(div.text)\n",
    "                    artistNames.append(artist_name)\n",
    "                    page1 = requests.get(songURL)\n",
    "                    soupp = BeautifulSoup(page1.content, 'lxml')\n",
    "                    x = soupp.find('div', {'class': 'col-xs-12 col-lg-8 text-center'})\n",
    "                    y = x.find_all('div')\n",
    "                    lyrics.append(y[5].text)\n",
    "                    #print(y[5].text)\n",
    "                    counter += 1\n",
    "                    \n",
    "                    D = list(zip(artistNames, albums, songTitles, urls, lyrics))\n",
    "                    with open('songLyrics.csv', 'w', encoding=\"utf-8\", newline='') as myfile:\n",
    "                        wr = csv.writer(myfile)\n",
    "                        wr.writerow((\"name\", \"album (year)\", \"song Title\", \"url\", \"lyrics\"))\n",
    "                        wr.writerows(D)\n",
    "                        #print(D)\n",
    "                    myfile.close()\n",
    "                    print(str(350-counter) + ' Songs Left')\n",
    "                    t = random.uniform(2,16)\n",
    "                    print('Pausing ' + str(round(t, 2)) + ' seconds')\n",
    "                    time.sleep(t)"
   ]
  }
 ],
 "metadata": {
  "kernelspec": {
   "display_name": "Python 3",
   "language": "python",
   "name": "python3"
  },
  "language_info": {
   "codemirror_mode": {
    "name": "ipython",
    "version": 3
   },
   "file_extension": ".py",
   "mimetype": "text/x-python",
   "name": "python",
   "nbconvert_exporter": "python",
   "pygments_lexer": "ipython3",
   "version": "3.7.4"
  }
 },
 "nbformat": 4,
 "nbformat_minor": 2
}
